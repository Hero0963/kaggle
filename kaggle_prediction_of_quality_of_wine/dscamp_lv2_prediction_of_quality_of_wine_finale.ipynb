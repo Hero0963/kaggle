{
  "nbformat": 4,
  "nbformat_minor": 0,
  "metadata": {
    "colab": {
      "provenance": [],
      "machine_shape": "hm",
      "gpuType": "A100",
      "authorship_tag": "ABX9TyNiYqQ+8MZGhVsOkys6lH+k",
      "include_colab_link": true
    },
    "kernelspec": {
      "name": "python3",
      "display_name": "Python 3"
    },
    "language_info": {
      "name": "python"
    },
    "accelerator": "GPU"
  },
  "cells": [
    {
      "cell_type": "markdown",
      "metadata": {
        "id": "view-in-github",
        "colab_type": "text"
      },
      "source": [
        "<a href=\"https://colab.research.google.com/github/Hero0963/dscamp_prediction-of-quality-of-wine/blob/main/dscamp_lv2_prediction_of_quality_of_wine_finale.ipynb\" target=\"_parent\"><img src=\"https://colab.research.google.com/assets/colab-badge.svg\" alt=\"Open In Colab\"/></a>"
      ]
    },
    {
      "cell_type": "markdown",
      "source": [
        "#專題實作 #02：紅酒品質分類預測\n",
        "\n",
        "接下來有幾個任務請你完成，將答案以文字或註解方式補充於程式碼中：\n",
        "\n",
        "1. 請嘗試使用 scikit-learn 中「不同基本分類模型」，並且進行比較結果？\n",
        "\n",
        "\n",
        "2. 可以利用「sklearn.model_selection 下的 GridSearchCV(...)」進行參數的調整。\n",
        "\n",
        "\n",
        "3. 最後也請嘗試看看除了 scikit-learn 之外的進階模型套件，例如 pytorch、tensorflow 或 xgboost。\n"
      ],
      "metadata": {
        "id": "EEGPfgotG86I"
      }
    },
    {
      "cell_type": "code",
      "execution_count": null,
      "metadata": {
        "id": "ARqQuXAJF3op"
      },
      "outputs": [],
      "source": [
        "import pandas as pd\n",
        "import numpy as np"
      ]
    },
    {
      "cell_type": "code",
      "source": [
        "df = pd.read_csv('https://raw.githubusercontent.com/aniruddhachoudhury/Red-Wine-Quality/master/winequality-red.csv')"
      ],
      "metadata": {
        "id": "BI-tG1ZDHJUh"
      },
      "execution_count": null,
      "outputs": []
    },
    {
      "cell_type": "code",
      "source": [
        "features = df.drop('quality', axis=1)\n",
        "labels = df['quality']"
      ],
      "metadata": {
        "id": "8hFcIX1tQUs9"
      },
      "execution_count": null,
      "outputs": []
    },
    {
      "cell_type": "code",
      "source": [
        "from sklearn.ensemble import RandomForestClassifier\n",
        "\n",
        "X = features\n",
        "y = labels"
      ],
      "metadata": {
        "id": "fwb8NyToieAL"
      },
      "execution_count": null,
      "outputs": []
    },
    {
      "cell_type": "code",
      "source": [
        "model = RandomForestClassifier()\n",
        "model.fit(X, y)\n",
        "\n",
        "feature_importance = model.feature_importances_\n",
        "\n",
        "importance_df = pd.DataFrame({'Feature': X.columns, 'Importance': feature_importance})\n",
        "importance_df = importance_df.sort_values('Importance', ascending=False)\n",
        "\n",
        "print(importance_df)"
      ],
      "metadata": {
        "colab": {
          "base_uri": "https://localhost:8080/"
        },
        "id": "KfAnZbE1ioPO",
        "outputId": "5e7adb22-80fd-4467-fd8b-fb5f09fae34c"
      },
      "execution_count": null,
      "outputs": [
        {
          "output_type": "stream",
          "name": "stdout",
          "text": [
            "                 Feature  Importance\n",
            "10               alcohol    0.145243\n",
            "9              sulphates    0.111257\n",
            "6   total sulfur dioxide    0.107677\n",
            "1       volatile acidity    0.103896\n",
            "7                density    0.091926\n",
            "4              chlorides    0.081266\n",
            "8                     pH    0.075992\n",
            "2            citric acid    0.074448\n",
            "0          fixed acidity    0.072347\n",
            "3         residual sugar    0.070891\n",
            "5    free sulfur dioxide    0.065056\n"
          ]
        }
      ]
    },
    {
      "cell_type": "code",
      "source": [
        "from sklearn.preprocessing import StandardScaler, MinMaxScaler\n",
        "\n",
        "\n",
        "# 標準化\n",
        "scaler = StandardScaler()\n",
        "features_normalized_standardized  = features.copy()\n",
        "features_normalized_standardized = scaler.fit_transform(features_normalized_standardized)\n",
        "\n",
        "# 最小最大化正規化\n",
        "scaler = MinMaxScaler()\n",
        "features_normalized__minmax  = features.copy()\n",
        "features_normalized__minmax =  scaler.fit_transform(features_normalized__minmax)\n",
        "\n",
        "\n",
        "display(features_normalized_standardized)\n",
        "display(features_normalized__minmax)"
      ],
      "metadata": {
        "colab": {
          "base_uri": "https://localhost:8080/",
          "height": 491
        },
        "id": "yU1fEZMblS1k",
        "outputId": "c66318aa-f2ad-407f-ecb0-04e6b59d61c5"
      },
      "execution_count": null,
      "outputs": [
        {
          "output_type": "display_data",
          "data": {
            "text/plain": [
              "array([[-0.52835961,  0.96187667, -1.39147228, ...,  1.28864292,\n",
              "        -0.57920652, -0.96024611],\n",
              "       [-0.29854743,  1.96744245, -1.39147228, ..., -0.7199333 ,\n",
              "         0.1289504 , -0.58477711],\n",
              "       [-0.29854743,  1.29706527, -1.18607043, ..., -0.33117661,\n",
              "        -0.04808883, -0.58477711],\n",
              "       ...,\n",
              "       [-1.1603431 , -0.09955388, -0.72391627, ...,  0.70550789,\n",
              "         0.54204194,  0.54162988],\n",
              "       [-1.39015528,  0.65462046, -0.77526673, ...,  1.6773996 ,\n",
              "         0.30598963, -0.20930812],\n",
              "       [-1.33270223, -1.21684919,  1.02199944, ...,  0.51112954,\n",
              "         0.01092425,  0.54162988]])"
            ]
          },
          "metadata": {}
        },
        {
          "output_type": "display_data",
          "data": {
            "text/plain": [
              "array([[0.24778761, 0.39726027, 0.        , ..., 0.60629921, 0.13772455,\n",
              "        0.15384615],\n",
              "       [0.28318584, 0.52054795, 0.        , ..., 0.36220472, 0.20958084,\n",
              "        0.21538462],\n",
              "       [0.28318584, 0.43835616, 0.04      , ..., 0.40944882, 0.19161677,\n",
              "        0.21538462],\n",
              "       ...,\n",
              "       [0.15044248, 0.26712329, 0.13      , ..., 0.53543307, 0.25149701,\n",
              "        0.4       ],\n",
              "       [0.11504425, 0.35958904, 0.12      , ..., 0.65354331, 0.22754491,\n",
              "        0.27692308],\n",
              "       [0.12389381, 0.13013699, 0.47      , ..., 0.51181102, 0.19760479,\n",
              "        0.4       ]])"
            ]
          },
          "metadata": {}
        }
      ]
    },
    {
      "cell_type": "code",
      "source": [
        "features_normalized_standardized = pd.DataFrame(features_normalized_standardized, columns=features.columns)\n",
        "print(type(features_normalized_standardized))"
      ],
      "metadata": {
        "colab": {
          "base_uri": "https://localhost:8080/"
        },
        "id": "BZdsjVCHuNYI",
        "outputId": "e239308a-ea73-4a58-a4d2-73d3e7b896a2"
      },
      "execution_count": null,
      "outputs": [
        {
          "output_type": "stream",
          "name": "stdout",
          "text": [
            "<class 'pandas.core.frame.DataFrame'>\n"
          ]
        }
      ]
    },
    {
      "cell_type": "code",
      "source": [
        "from sklearn.cluster import KMeans\n",
        "\n",
        "# 選擇特徵子集\n",
        "excluded_features = ['residual sugar', 'free sulfur dioxide']\n",
        "selected_features = [f for f in features.columns if f not in excluded_features]\n",
        "\n",
        "# 資料預處理\n",
        "\n",
        "# 假設你的資料集為 df，進行特徵縮放等必要的預處理步驟\n",
        "\n",
        "\n",
        "n_clusters = len(df['quality'].unique())\n",
        "\n",
        "kmeans = KMeans(n_clusters=n_clusters, random_state=42)\n",
        "kmeans.fit(features_normalized_standardized[selected_features].values)\n",
        "\n",
        "# 獲取聚類結果\n",
        "cluster_labels = kmeans.labels_\n",
        "\n",
        "# 新特徵的命名\n",
        "new_feature_name = 'cluster_label'\n",
        "\n",
        "# 將聚類結果作為新特徵添加到原始資料集\n",
        "features_normalized_standardized[new_feature_name] = cluster_labels\n"
      ],
      "metadata": {
        "colab": {
          "base_uri": "https://localhost:8080/"
        },
        "id": "K8M_u3cGoeHD",
        "outputId": "01e6ac05-7ef3-4947-d60c-fe1afa0413f4"
      },
      "execution_count": null,
      "outputs": [
        {
          "output_type": "stream",
          "name": "stderr",
          "text": [
            "/usr/local/lib/python3.10/dist-packages/sklearn/cluster/_kmeans.py:870: FutureWarning: The default value of `n_init` will change from 10 to 'auto' in 1.4. Set the value of `n_init` explicitly to suppress the warning\n",
            "  warnings.warn(\n"
          ]
        }
      ]
    },
    {
      "cell_type": "code",
      "source": [
        "excluded_features = ['residual sugar', 'free sulfur dioxide', 'cluster_label']\n",
        "selected_features = [f for f in features.columns if f not in excluded_features]\n",
        "\n",
        "X = features_normalized_standardized[selected_features]\n",
        "y = labels"
      ],
      "metadata": {
        "id": "KAO2B7t0vgV5"
      },
      "execution_count": null,
      "outputs": []
    },
    {
      "cell_type": "code",
      "source": [
        "display(labels)"
      ],
      "metadata": {
        "colab": {
          "base_uri": "https://localhost:8080/",
          "height": 236
        },
        "id": "7L3g68T9-dKv",
        "outputId": "411d8284-54d5-4740-a838-ba64531f34a4"
      },
      "execution_count": null,
      "outputs": [
        {
          "output_type": "display_data",
          "data": {
            "text/plain": [
              "0       5\n",
              "1       5\n",
              "2       5\n",
              "3       6\n",
              "4       5\n",
              "       ..\n",
              "1594    5\n",
              "1595    6\n",
              "1596    6\n",
              "1597    5\n",
              "1598    6\n",
              "Name: quality, Length: 1599, dtype: int64"
            ]
          },
          "metadata": {}
        }
      ]
    },
    {
      "cell_type": "code",
      "source": [
        "display(type(labels))"
      ],
      "metadata": {
        "colab": {
          "base_uri": "https://localhost:8080/",
          "height": 35
        },
        "id": "S2V8u9OV-2wp",
        "outputId": "dde65605-fa46-47be-d71d-7d363b50efac"
      },
      "execution_count": null,
      "outputs": [
        {
          "output_type": "display_data",
          "data": {
            "text/plain": [
              "pandas.core.series.Series"
            ]
          },
          "metadata": {}
        }
      ]
    },
    {
      "cell_type": "code",
      "source": [
        "print(labels.unique())"
      ],
      "metadata": {
        "colab": {
          "base_uri": "https://localhost:8080/"
        },
        "id": "Sr1YI9_5_hI5",
        "outputId": "f85fb87c-250c-4005-8981-d7d1043e1aed"
      },
      "execution_count": null,
      "outputs": [
        {
          "output_type": "stream",
          "name": "stdout",
          "text": [
            "[5 6 7 4 8 3]\n"
          ]
        }
      ]
    },
    {
      "cell_type": "code",
      "source": [
        "def convert_label(value):\n",
        "    if value <= 6.5:\n",
        "        return \"bad\"\n",
        "    else:\n",
        "        return \"good\"\n",
        "\n",
        "converted_labels = labels.apply(convert_label)\n",
        "print(converted_labels)"
      ],
      "metadata": {
        "colab": {
          "base_uri": "https://localhost:8080/"
        },
        "id": "s0VFYc1a_mF_",
        "outputId": "508e52f3-1378-4898-a143-12e18c3ed90f"
      },
      "execution_count": null,
      "outputs": [
        {
          "output_type": "stream",
          "name": "stdout",
          "text": [
            "0       bad\n",
            "1       bad\n",
            "2       bad\n",
            "3       bad\n",
            "4       bad\n",
            "       ... \n",
            "1594    bad\n",
            "1595    bad\n",
            "1596    bad\n",
            "1597    bad\n",
            "1598    bad\n",
            "Name: quality, Length: 1599, dtype: object\n"
          ]
        }
      ]
    },
    {
      "cell_type": "code",
      "source": [
        "from sklearn.preprocessing import LabelEncoder\n",
        "label_quality = LabelEncoder()\n",
        "converted_labels = label_quality.fit_transform(converted_labels)\n",
        "display(converted_labels)"
      ],
      "metadata": {
        "colab": {
          "base_uri": "https://localhost:8080/",
          "height": 35
        },
        "id": "ozaVQuw5_uJR",
        "outputId": "51455d3d-d662-42f7-ee95-9c498d6bd15c"
      },
      "execution_count": null,
      "outputs": [
        {
          "output_type": "display_data",
          "data": {
            "text/plain": [
              "array([0, 0, 0, ..., 0, 0, 0])"
            ]
          },
          "metadata": {}
        }
      ]
    },
    {
      "cell_type": "code",
      "source": [
        "X = features_normalized_standardized[selected_features]\n",
        "y = converted_labels\n"
      ],
      "metadata": {
        "id": "1Di5-ayIB_qe"
      },
      "execution_count": null,
      "outputs": []
    },
    {
      "cell_type": "code",
      "source": [
        "from sklearn.model_selection import train_test_split\n",
        "from sklearn.linear_model import LogisticRegression\n",
        "from sklearn.tree import DecisionTreeClassifier\n",
        "from sklearn.ensemble import RandomForestClassifier\n",
        "from sklearn.svm import SVC\n",
        "from sklearn.neighbors import KNeighborsClassifier\n",
        "from sklearn.naive_bayes import GaussianNB\n",
        "from sklearn.metrics import accuracy_score\n",
        "\n",
        "X_train, X_test, y_train, y_test = train_test_split(X, y, test_size = 0.2, random_state = 43, stratify=y)\n",
        "\n",
        "models = [\n",
        "    LogisticRegression(),\n",
        "    DecisionTreeClassifier(),\n",
        "    RandomForestClassifier(),\n",
        "    SVC(),\n",
        "    KNeighborsClassifier(),\n",
        "    GaussianNB()\n",
        "]"
      ],
      "metadata": {
        "id": "SE_9RbyWmIA9"
      },
      "execution_count": null,
      "outputs": []
    },
    {
      "cell_type": "code",
      "source": [
        "for model in models:\n",
        "    model.fit(X_train, y_train)\n",
        "    y_pred = model.predict(X_test)\n",
        "    accuracy = accuracy_score(y_test, y_pred)\n",
        "    display(f\"{model.__class__.__name__} accuracy：{accuracy}\")\n"
      ],
      "metadata": {
        "colab": {
          "base_uri": "https://localhost:8080/",
          "height": 130
        },
        "id": "2WM5etvcmFKb",
        "outputId": "69ef6ff2-0eba-4853-9be6-2ae36a22edaa"
      },
      "execution_count": null,
      "outputs": [
        {
          "output_type": "display_data",
          "data": {
            "text/plain": [
              "'LogisticRegression accuracy：0.8625'"
            ],
            "application/vnd.google.colaboratory.intrinsic+json": {
              "type": "string"
            }
          },
          "metadata": {}
        },
        {
          "output_type": "display_data",
          "data": {
            "text/plain": [
              "'DecisionTreeClassifier accuracy：0.84375'"
            ],
            "application/vnd.google.colaboratory.intrinsic+json": {
              "type": "string"
            }
          },
          "metadata": {}
        },
        {
          "output_type": "display_data",
          "data": {
            "text/plain": [
              "'RandomForestClassifier accuracy：0.884375'"
            ],
            "application/vnd.google.colaboratory.intrinsic+json": {
              "type": "string"
            }
          },
          "metadata": {}
        },
        {
          "output_type": "display_data",
          "data": {
            "text/plain": [
              "'SVC accuracy：0.88125'"
            ],
            "application/vnd.google.colaboratory.intrinsic+json": {
              "type": "string"
            }
          },
          "metadata": {}
        },
        {
          "output_type": "display_data",
          "data": {
            "text/plain": [
              "'KNeighborsClassifier accuracy：0.8875'"
            ],
            "application/vnd.google.colaboratory.intrinsic+json": {
              "type": "string"
            }
          },
          "metadata": {}
        },
        {
          "output_type": "display_data",
          "data": {
            "text/plain": [
              "'GaussianNB accuracy：0.84375'"
            ],
            "application/vnd.google.colaboratory.intrinsic+json": {
              "type": "string"
            }
          },
          "metadata": {}
        }
      ]
    },
    {
      "cell_type": "code",
      "source": [
        "from sklearn.model_selection import GridSearchCV\n",
        "\n",
        "# 定義要調整的參數範圍\n",
        "param_grid_lr = {\n",
        "    'C': [0.1, 1, 10],\n",
        "    'penalty': ['l1', 'l2']\n",
        "}\n",
        "\n",
        "param_grid_dt = {\n",
        "    'max_depth': [3, 5, 7],\n",
        "    'min_samples_split': [2, 5, 10]\n",
        "}\n",
        "\n",
        "param_grid_rf = {\n",
        "    'n_estimators': [100, 200, 300],\n",
        "    'max_depth': [None, 5, 10],\n",
        "    'min_samples_split': [2, 5, 10]\n",
        "}\n",
        "\n",
        "param_grid_svc = {\n",
        "    'C': [0.1, 1, 10],\n",
        "    'kernel': ['linear', 'rbf'],\n",
        "    'gamma': [0.1, 0.01]\n",
        "}\n",
        "\n",
        "param_grid_knn = {\n",
        "    'n_neighbors': [3, 5, 7],\n",
        "    'weights': ['uniform', 'distance']\n",
        "}\n",
        "\n",
        "param_grid_nb = {\n",
        "    'var_smoothing': [1e-9, 1e-8, 1e-7]\n",
        "}\n",
        "\n",
        "# 定義模型名稱列表\n",
        "model_names = [model.__class__.__name__ for model in models]\n",
        "\n",
        "# 定義參數範圍字典\n",
        "param_grids = {\n",
        "    'LogisticRegression': param_grid_lr,\n",
        "    'DecisionTreeClassifier': param_grid_dt,\n",
        "    'RandomForestClassifier': param_grid_rf,\n",
        "    'SVC': param_grid_svc,\n",
        "    'KNeighborsClassifier': param_grid_knn,\n",
        "    'GaussianNB': param_grid_nb\n",
        "}\n",
        "\n",
        "# 對每個模型進行參數調整\n",
        "for model, model_name in zip(models, model_names):\n",
        "    param_grid = param_grids[model_name]\n",
        "    grid_search = GridSearchCV(estimator=model, param_grid=param_grid, cv=5)\n",
        "    grid_search.fit(X, y)\n",
        "\n",
        "    print(f\"{model_name}:\")\n",
        "    print(\"最佳參數組合：\", grid_search.best_params_)\n",
        "    print(\"最佳分數：\", grid_search.best_score_)\n",
        "    print()"
      ],
      "metadata": {
        "colab": {
          "base_uri": "https://localhost:8080/"
        },
        "id": "HUAIUvd3mlYC",
        "outputId": "a47e7d55-06a6-47ed-86cc-6f1a306284e2"
      },
      "execution_count": null,
      "outputs": [
        {
          "output_type": "stream",
          "name": "stderr",
          "text": [
            "/usr/local/lib/python3.10/dist-packages/sklearn/model_selection/_validation.py:378: FitFailedWarning: \n",
            "15 fits failed out of a total of 30.\n",
            "The score on these train-test partitions for these parameters will be set to nan.\n",
            "If these failures are not expected, you can try to debug them by setting error_score='raise'.\n",
            "\n",
            "Below are more details about the failures:\n",
            "--------------------------------------------------------------------------------\n",
            "15 fits failed with the following error:\n",
            "Traceback (most recent call last):\n",
            "  File \"/usr/local/lib/python3.10/dist-packages/sklearn/model_selection/_validation.py\", line 686, in _fit_and_score\n",
            "    estimator.fit(X_train, y_train, **fit_params)\n",
            "  File \"/usr/local/lib/python3.10/dist-packages/sklearn/linear_model/_logistic.py\", line 1162, in fit\n",
            "    solver = _check_solver(self.solver, self.penalty, self.dual)\n",
            "  File \"/usr/local/lib/python3.10/dist-packages/sklearn/linear_model/_logistic.py\", line 54, in _check_solver\n",
            "    raise ValueError(\n",
            "ValueError: Solver lbfgs supports only 'l2' or 'none' penalties, got l1 penalty.\n",
            "\n",
            "  warnings.warn(some_fits_failed_message, FitFailedWarning)\n",
            "/usr/local/lib/python3.10/dist-packages/sklearn/model_selection/_search.py:952: UserWarning: One or more of the test scores are non-finite: [       nan 0.86742751        nan 0.86430447        nan 0.86430447]\n",
            "  warnings.warn(\n"
          ]
        },
        {
          "output_type": "stream",
          "name": "stdout",
          "text": [
            "LogisticRegression:\n",
            "最佳參數組合： {'C': 0.1, 'penalty': 'l2'}\n",
            "最佳分數： 0.8674275078369906\n",
            "\n",
            "DecisionTreeClassifier:\n",
            "最佳參數組合： {'max_depth': 3, 'min_samples_split': 2}\n",
            "最佳分數： 0.8592672413793103\n",
            "\n",
            "RandomForestClassifier:\n",
            "最佳參數組合： {'max_depth': 5, 'min_samples_split': 10, 'n_estimators': 300}\n",
            "最佳分數： 0.878064263322884\n",
            "\n",
            "SVC:\n",
            "最佳參數組合： {'C': 1, 'gamma': 0.1, 'kernel': 'rbf'}\n",
            "最佳分數： 0.8692985893416928\n",
            "\n",
            "KNeighborsClassifier:\n",
            "最佳參數組合： {'n_neighbors': 5, 'weights': 'distance'}\n",
            "最佳分數： 0.8611677115987462\n",
            "\n",
            "GaussianNB:\n",
            "最佳參數組合： {'var_smoothing': 1e-09}\n",
            "最佳分數： 0.8111794670846395\n",
            "\n"
          ]
        }
      ]
    },
    {
      "cell_type": "code",
      "source": [
        "!pip install xgboost"
      ],
      "metadata": {
        "colab": {
          "base_uri": "https://localhost:8080/"
        },
        "id": "YJ7jeMrwn1Bf",
        "outputId": "7dd5915b-2403-4e67-c640-8a0280bfa5ff"
      },
      "execution_count": null,
      "outputs": [
        {
          "output_type": "stream",
          "name": "stdout",
          "text": [
            "Looking in indexes: https://pypi.org/simple, https://us-python.pkg.dev/colab-wheels/public/simple/\n",
            "Requirement already satisfied: xgboost in /usr/local/lib/python3.10/dist-packages (1.7.5)\n",
            "Requirement already satisfied: numpy in /usr/local/lib/python3.10/dist-packages (from xgboost) (1.22.4)\n",
            "Requirement already satisfied: scipy in /usr/local/lib/python3.10/dist-packages (from xgboost) (1.10.1)\n"
          ]
        }
      ]
    },
    {
      "cell_type": "code",
      "source": [
        "import xgboost as xgb\n",
        "\n",
        "\n",
        "models.append(xgb.XGBClassifier())\n"
      ],
      "metadata": {
        "id": "xwaFK5oaqc-_"
      },
      "execution_count": null,
      "outputs": []
    },
    {
      "cell_type": "code",
      "source": [
        "param_grid_xgb = {\n",
        "    'max_depth': [3, 5, 7],\n",
        "    'n_estimators': [100, 200, 300],\n",
        "    'learning_rate': [0.1, 0.01, 0.001]\n",
        "}\n",
        "\n",
        "param_grids['XGBClassifier'] = param_grid_xgb"
      ],
      "metadata": {
        "id": "kD9Ijvg7r9PL"
      },
      "execution_count": null,
      "outputs": []
    },
    {
      "cell_type": "code",
      "source": [
        "for model in models:\n",
        "    model_name = model.__class__.__name__\n",
        "\n",
        "    if model_name != 'XGBClassifier':\n",
        "        continue\n",
        "\n",
        "    param_grid = param_grid_xgb\n",
        "\n",
        "    grid_search = GridSearchCV(model, param_grid, cv=5)\n",
        "    grid_search.fit(X, y)\n",
        "\n",
        "    best_params = grid_search.best_params_\n",
        "    best_model = grid_search.best_estimator_\n",
        "\n",
        "    print(f\"Best parameters for {model_name}:\")\n",
        "    print(best_params)\n",
        "    print()"
      ],
      "metadata": {
        "colab": {
          "base_uri": "https://localhost:8080/"
        },
        "id": "RLzO0TuRselI",
        "outputId": "78516e09-3709-42a0-ed7a-9c6bc6aa064c"
      },
      "execution_count": null,
      "outputs": [
        {
          "output_type": "stream",
          "name": "stdout",
          "text": [
            "Best parameters for XGBClassifier:\n",
            "{'learning_rate': 0.001, 'max_depth': 5, 'n_estimators': 300}\n",
            "\n"
          ]
        }
      ]
    }
  ]
}