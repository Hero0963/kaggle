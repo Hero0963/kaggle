{
  "nbformat": 4,
  "nbformat_minor": 0,
  "metadata": {
    "colab": {
      "provenance": [],
      "machine_shape": "hm",
      "gpuType": "A100",
      "authorship_tag": "ABX9TyOxD6Mda1x/iuAa1sIphvXJ",
      "include_colab_link": true
    },
    "kernelspec": {
      "name": "python3",
      "display_name": "Python 3"
    },
    "language_info": {
      "name": "python"
    },
    "accelerator": "GPU"
  },
  "cells": [
    {
      "cell_type": "markdown",
      "metadata": {
        "id": "view-in-github",
        "colab_type": "text"
      },
      "source": [
        "<a href=\"https://colab.research.google.com/github/Hero0963/dscamp_prediction-of-quality-of-wine/blob/main/dscamp_lv2_prediction_of_quality_of_wine_nn_model.ipynb\" target=\"_parent\"><img src=\"https://colab.research.google.com/assets/colab-badge.svg\" alt=\"Open In Colab\"/></a>"
      ]
    },
    {
      "cell_type": "markdown",
      "source": [
        "#專題實作 #02：紅酒品質分類預測 - 神經網路模型"
      ],
      "metadata": {
        "id": "EEGPfgotG86I"
      }
    },
    {
      "cell_type": "code",
      "execution_count": null,
      "metadata": {
        "id": "ARqQuXAJF3op"
      },
      "outputs": [],
      "source": [
        "import pandas as pd\n",
        "import numpy as np"
      ]
    },
    {
      "cell_type": "code",
      "source": [
        "df = pd.read_csv('https://raw.githubusercontent.com/aniruddhachoudhury/Red-Wine-Quality/master/winequality-red.csv')"
      ],
      "metadata": {
        "id": "BI-tG1ZDHJUh"
      },
      "execution_count": null,
      "outputs": []
    },
    {
      "cell_type": "code",
      "source": [
        "features = df.drop('quality', axis=1)\n",
        "labels = df['quality']"
      ],
      "metadata": {
        "id": "8hFcIX1tQUs9"
      },
      "execution_count": null,
      "outputs": []
    },
    {
      "cell_type": "code",
      "source": [
        "from sklearn.ensemble import RandomForestClassifier\n",
        "\n",
        "X = features\n",
        "y = labels"
      ],
      "metadata": {
        "id": "fwb8NyToieAL"
      },
      "execution_count": null,
      "outputs": []
    },
    {
      "cell_type": "code",
      "source": [
        "model = RandomForestClassifier()\n",
        "model.fit(X, y)\n",
        "\n",
        "feature_importance = model.feature_importances_\n",
        "\n",
        "importance_df = pd.DataFrame({'Feature': X.columns, 'Importance': feature_importance})\n",
        "importance_df = importance_df.sort_values('Importance', ascending=False)\n",
        "\n",
        "print(importance_df)"
      ],
      "metadata": {
        "colab": {
          "base_uri": "https://localhost:8080/"
        },
        "id": "KfAnZbE1ioPO",
        "outputId": "140774c6-0326-4aa2-f703-e7ae0ecb3aa3"
      },
      "execution_count": null,
      "outputs": [
        {
          "output_type": "stream",
          "name": "stdout",
          "text": [
            "                 Feature  Importance\n",
            "10               alcohol    0.148794\n",
            "9              sulphates    0.109071\n",
            "6   total sulfur dioxide    0.105674\n",
            "1       volatile acidity    0.103327\n",
            "7                density    0.091802\n",
            "4              chlorides    0.080368\n",
            "2            citric acid    0.074700\n",
            "0          fixed acidity    0.073976\n",
            "8                     pH    0.072816\n",
            "3         residual sugar    0.072764\n",
            "5    free sulfur dioxide    0.066706\n"
          ]
        }
      ]
    },
    {
      "cell_type": "code",
      "source": [
        "from sklearn.preprocessing import StandardScaler, MinMaxScaler\n",
        "\n",
        "\n",
        "# 標準化\n",
        "scaler = StandardScaler()\n",
        "features_normalized_standardized  = features.copy()\n",
        "features_normalized_standardized = scaler.fit_transform(features_normalized_standardized)\n",
        "\n",
        "# 最小最大化正規化\n",
        "scaler = MinMaxScaler()\n",
        "features_normalized__minmax  = features.copy()\n",
        "features_normalized__minmax =  scaler.fit_transform(features_normalized__minmax)\n",
        "\n",
        "\n",
        "display(features_normalized_standardized)\n",
        "display(features_normalized__minmax)"
      ],
      "metadata": {
        "colab": {
          "base_uri": "https://localhost:8080/",
          "height": 491
        },
        "id": "yU1fEZMblS1k",
        "outputId": "1c9a64db-d469-438d-cba1-7d6185e14917"
      },
      "execution_count": null,
      "outputs": [
        {
          "output_type": "display_data",
          "data": {
            "text/plain": [
              "array([[-0.52835961,  0.96187667, -1.39147228, ...,  1.28864292,\n",
              "        -0.57920652, -0.96024611],\n",
              "       [-0.29854743,  1.96744245, -1.39147228, ..., -0.7199333 ,\n",
              "         0.1289504 , -0.58477711],\n",
              "       [-0.29854743,  1.29706527, -1.18607043, ..., -0.33117661,\n",
              "        -0.04808883, -0.58477711],\n",
              "       ...,\n",
              "       [-1.1603431 , -0.09955388, -0.72391627, ...,  0.70550789,\n",
              "         0.54204194,  0.54162988],\n",
              "       [-1.39015528,  0.65462046, -0.77526673, ...,  1.6773996 ,\n",
              "         0.30598963, -0.20930812],\n",
              "       [-1.33270223, -1.21684919,  1.02199944, ...,  0.51112954,\n",
              "         0.01092425,  0.54162988]])"
            ]
          },
          "metadata": {}
        },
        {
          "output_type": "display_data",
          "data": {
            "text/plain": [
              "array([[0.24778761, 0.39726027, 0.        , ..., 0.60629921, 0.13772455,\n",
              "        0.15384615],\n",
              "       [0.28318584, 0.52054795, 0.        , ..., 0.36220472, 0.20958084,\n",
              "        0.21538462],\n",
              "       [0.28318584, 0.43835616, 0.04      , ..., 0.40944882, 0.19161677,\n",
              "        0.21538462],\n",
              "       ...,\n",
              "       [0.15044248, 0.26712329, 0.13      , ..., 0.53543307, 0.25149701,\n",
              "        0.4       ],\n",
              "       [0.11504425, 0.35958904, 0.12      , ..., 0.65354331, 0.22754491,\n",
              "        0.27692308],\n",
              "       [0.12389381, 0.13013699, 0.47      , ..., 0.51181102, 0.19760479,\n",
              "        0.4       ]])"
            ]
          },
          "metadata": {}
        }
      ]
    },
    {
      "cell_type": "code",
      "source": [
        "features_normalized_standardized = pd.DataFrame(features_normalized_standardized, columns=features.columns)\n",
        "print(type(features_normalized_standardized))"
      ],
      "metadata": {
        "colab": {
          "base_uri": "https://localhost:8080/"
        },
        "id": "BZdsjVCHuNYI",
        "outputId": "9590c7ce-77a9-406f-866f-97fd8b7b1c48"
      },
      "execution_count": null,
      "outputs": [
        {
          "output_type": "stream",
          "name": "stdout",
          "text": [
            "<class 'pandas.core.frame.DataFrame'>\n"
          ]
        }
      ]
    },
    {
      "cell_type": "code",
      "source": [
        "from sklearn.cluster import KMeans\n",
        "\n",
        "# 選擇特徵子集\n",
        "excluded_features = ['residual sugar', 'free sulfur dioxide']\n",
        "selected_features = [f for f in features.columns if f not in excluded_features]\n",
        "\n",
        "# 資料預處理\n",
        "\n",
        "# 假設你的資料集為 df，進行特徵縮放等必要的預處理步驟\n",
        "\n",
        "\n",
        "n_clusters = len(df['quality'].unique())\n",
        "\n",
        "kmeans = KMeans(n_clusters=n_clusters, random_state=42)\n",
        "kmeans.fit(features_normalized_standardized[selected_features].values)\n",
        "\n",
        "# 獲取聚類結果\n",
        "cluster_labels = kmeans.labels_\n",
        "\n",
        "# 新特徵的命名\n",
        "new_feature_name = 'cluster_label'\n",
        "\n",
        "# 將聚類結果作為新特徵添加到原始資料集\n",
        "features_normalized_standardized[new_feature_name] = cluster_labels\n"
      ],
      "metadata": {
        "colab": {
          "base_uri": "https://localhost:8080/"
        },
        "id": "K8M_u3cGoeHD",
        "outputId": "f07cf2c3-00e4-4e13-ab72-179f83568438"
      },
      "execution_count": null,
      "outputs": [
        {
          "output_type": "stream",
          "name": "stderr",
          "text": [
            "/usr/local/lib/python3.10/dist-packages/sklearn/cluster/_kmeans.py:870: FutureWarning: The default value of `n_init` will change from 10 to 'auto' in 1.4. Set the value of `n_init` explicitly to suppress the warning\n",
            "  warnings.warn(\n"
          ]
        }
      ]
    },
    {
      "cell_type": "code",
      "source": [
        "excluded_features = ['residual sugar', 'free sulfur dioxide', 'cluster_label']\n",
        "selected_features = [f for f in features.columns if f not in excluded_features]\n",
        "\n",
        "X = features_normalized_standardized[selected_features]\n",
        "y = labels"
      ],
      "metadata": {
        "id": "KAO2B7t0vgV5"
      },
      "execution_count": null,
      "outputs": []
    },
    {
      "cell_type": "code",
      "source": [
        "display(labels)"
      ],
      "metadata": {
        "colab": {
          "base_uri": "https://localhost:8080/",
          "height": 236
        },
        "id": "7L3g68T9-dKv",
        "outputId": "c97dc2b8-bee0-4055-8115-815e7442db93"
      },
      "execution_count": null,
      "outputs": [
        {
          "output_type": "display_data",
          "data": {
            "text/plain": [
              "0       5\n",
              "1       5\n",
              "2       5\n",
              "3       6\n",
              "4       5\n",
              "       ..\n",
              "1594    5\n",
              "1595    6\n",
              "1596    6\n",
              "1597    5\n",
              "1598    6\n",
              "Name: quality, Length: 1599, dtype: int64"
            ]
          },
          "metadata": {}
        }
      ]
    },
    {
      "cell_type": "code",
      "source": [
        "display(type(labels))"
      ],
      "metadata": {
        "colab": {
          "base_uri": "https://localhost:8080/",
          "height": 35
        },
        "id": "S2V8u9OV-2wp",
        "outputId": "3920cfcf-6efb-4499-f7e5-cb6fba293025"
      },
      "execution_count": null,
      "outputs": [
        {
          "output_type": "display_data",
          "data": {
            "text/plain": [
              "pandas.core.series.Series"
            ]
          },
          "metadata": {}
        }
      ]
    },
    {
      "cell_type": "code",
      "source": [
        "print(labels.unique())"
      ],
      "metadata": {
        "colab": {
          "base_uri": "https://localhost:8080/"
        },
        "id": "Sr1YI9_5_hI5",
        "outputId": "a19c2797-2704-43a2-de3d-f6de6ce0d35d"
      },
      "execution_count": null,
      "outputs": [
        {
          "output_type": "stream",
          "name": "stdout",
          "text": [
            "[5 6 7 4 8 3]\n"
          ]
        }
      ]
    },
    {
      "cell_type": "code",
      "source": [
        "def convert_label(value):\n",
        "    if value <= 6.5:\n",
        "        return \"bad\"\n",
        "    else:\n",
        "        return \"good\"\n",
        "\n",
        "converted_labels = labels.apply(convert_label)\n",
        "print(converted_labels)"
      ],
      "metadata": {
        "colab": {
          "base_uri": "https://localhost:8080/"
        },
        "id": "s0VFYc1a_mF_",
        "outputId": "42fa51e3-4af9-4623-d6db-7bd74b5350ec"
      },
      "execution_count": null,
      "outputs": [
        {
          "output_type": "stream",
          "name": "stdout",
          "text": [
            "0       bad\n",
            "1       bad\n",
            "2       bad\n",
            "3       bad\n",
            "4       bad\n",
            "       ... \n",
            "1594    bad\n",
            "1595    bad\n",
            "1596    bad\n",
            "1597    bad\n",
            "1598    bad\n",
            "Name: quality, Length: 1599, dtype: object\n"
          ]
        }
      ]
    },
    {
      "cell_type": "code",
      "source": [
        "from sklearn.preprocessing import LabelEncoder\n",
        "label_quality = LabelEncoder()\n",
        "converted_labels = label_quality.fit_transform(converted_labels)\n",
        "display(converted_labels)"
      ],
      "metadata": {
        "colab": {
          "base_uri": "https://localhost:8080/",
          "height": 35
        },
        "id": "ozaVQuw5_uJR",
        "outputId": "c1debe08-12b4-4513-9b52-29ca69d8196b"
      },
      "execution_count": null,
      "outputs": [
        {
          "output_type": "display_data",
          "data": {
            "text/plain": [
              "array([0, 0, 0, ..., 0, 0, 0])"
            ]
          },
          "metadata": {}
        }
      ]
    },
    {
      "cell_type": "code",
      "source": [
        "X = features_normalized_standardized[selected_features]\n",
        "y = converted_labels\n",
        "\n",
        "X_train, X_test, y_train, y_test = train_test_split(X, y, test_size = 0.2, random_state = 43, stratify=y)\n",
        "X_train, X_val, y_train, y_val = train_test_split(X_train, y_train, test_size = 0.1, random_state = 43, stratify=y_train)"
      ],
      "metadata": {
        "id": "1Di5-ayIB_qe"
      },
      "execution_count": null,
      "outputs": []
    },
    {
      "cell_type": "code",
      "source": [
        "from sklearn.model_selection import cross_val_score\n",
        "\n",
        "rfc = RandomForestClassifier(n_estimators=200)\n",
        "rfc_eval = cross_val_score(estimator = rfc, X = X_train, y = y_train, cv = 5)\n",
        "print(rfc_eval)"
      ],
      "metadata": {
        "colab": {
          "base_uri": "https://localhost:8080/"
        },
        "id": "hbYds1OhCmDl",
        "outputId": "88b6cb17-4bd9-4d44-9c56-7ea8f03a7a35"
      },
      "execution_count": null,
      "outputs": [
        {
          "output_type": "stream",
          "name": "stdout",
          "text": [
            "[0.92776524 0.94343891 0.93665158 0.93438914 0.9321267 ]\n"
          ]
        }
      ]
    },
    {
      "cell_type": "markdown",
      "source": [
        "#NN Model\n",
        "\n",
        "嘗試調整 model參數\n",
        "隱藏層的數量和尺寸。\n",
        "使用了 torch.tanh() 作為第一個隱藏層的激活函數。\n",
        "使用了 torch.dropout() 層進行正則化，\n",
        "並在每個隱藏層的輸出上應用了 dropout。\n",
        "在預測層使用了 torch.sigmoid() 作為激活函數。\n",
        "\n",
        "\n"
      ],
      "metadata": {
        "id": "6t-_cDnu6vxt"
      }
    },
    {
      "cell_type": "code",
      "source": [
        "import torch\n",
        "from sklearn.metrics import accuracy_score\n",
        "\n",
        "# 創建模型架構\n",
        "class Model(torch.nn.Module):\n",
        "    def __init__(self, input_size, output_size):\n",
        "        super(Model, self).__init__()\n",
        "        self.hidden1 = torch.nn.Linear(input_size, 64)\n",
        "        self.hidden2 = torch.nn.Linear(64, 32)\n",
        "        self.predict = torch.nn.Linear(32, output_size)\n",
        "\n",
        "    def forward(self, x):\n",
        "        output1 = torch.relu(self.hidden1(x))\n",
        "        output2 = torch.relu(self.hidden2(output1))\n",
        "        output = torch.sigmoid(self.predict(output2))\n",
        "        return output\n"
      ],
      "metadata": {
        "id": "qniN-eNPDXmP"
      },
      "execution_count": null,
      "outputs": []
    },
    {
      "cell_type": "code",
      "source": [
        "# 模型、優化器初始化\n",
        "model = Model(X_test.shape[1], 1)\n",
        "optimizer = torch.optim.SGD(model.parameters(), lr=0.05, momentum=0.0) # 模型參數優化器\n",
        "loss_func = torch.nn.BCELoss()\n",
        "\n",
        "\n",
        "# 資料格式轉成torch專用格式\n",
        "x_data = torch.tensor(X_train.values, dtype=torch.float32)\n",
        "y_data = torch.tensor(np.expand_dims(y_train, axis=1), dtype=torch.float32)\n",
        "\n",
        "x_val_data = torch.tensor(X_val.values, dtype=torch.float32)\n",
        "y_val_data = torch.tensor(np.expand_dims(y_val, axis=1), dtype=torch.float32)\n",
        "\n",
        "x_test_data = torch.tensor(X_test.values, dtype=torch.float32)\n",
        "y_test_data = torch.tensor(np.expand_dims(y_test, axis=1), dtype=torch.float32)\n",
        "\n",
        "\n",
        "batch_size = 32\n",
        "num_epochs = 200\n",
        "\n",
        "training_losses = []\n",
        "val_losses = []\n",
        "\n",
        "for epoch in range(num_epochs):\n",
        "    for i in range(0, len(x_data), batch_size):\n",
        "        prediction = model(x_data[i:i+batch_size])\n",
        "        loss = loss_func(prediction, y_data[i:i+batch_size])\n",
        "\n",
        "        optimizer.zero_grad()\n",
        "        loss.backward()\n",
        "        optimizer.step()\n",
        "\n",
        "    loss = loss_func(model(x_data), y_data)\n",
        "    training_losses.append(float(loss))\n",
        "\n",
        "    y_pred = model(x_val_data)\n",
        "    val_loss = loss_func(y_pred, y_val_data)\n",
        "    print(\"training loss:{}, val loss:{}, val acc:{}\".format(float(loss), val_loss, accuracy_score(y_val_data, np.where(y_pred >= 0.5, 1, 0))))\n",
        "\n",
        "    val_losses.append(float(val_loss))"
      ],
      "metadata": {
        "colab": {
          "base_uri": "https://localhost:8080/"
        },
        "id": "xfqORnjM6tSJ",
        "outputId": "21d457e2-37c4-4b2a-9595-097df733709f"
      },
      "execution_count": null,
      "outputs": [
        {
          "output_type": "stream",
          "name": "stdout",
          "text": [
            "training loss:0.6304767727851868, val loss:0.6197344660758972, val acc:0.7792792792792793\n",
            "training loss:0.5115633010864258, val loss:0.47867950797080994, val acc:0.8108108108108109\n",
            "training loss:0.4487811326980591, val loss:0.39381372928619385, val acc:0.8198198198198198\n",
            "training loss:0.4303429126739502, val loss:0.3639771342277527, val acc:0.8288288288288288\n",
            "training loss:0.4201667010784149, val loss:0.35028406977653503, val acc:0.8378378378378378\n",
            "training loss:0.4122423231601715, val loss:0.3414023816585541, val acc:0.8378378378378378\n",
            "training loss:0.4053502380847931, val loss:0.3348842263221741, val acc:0.8288288288288288\n",
            "training loss:0.3991234302520752, val loss:0.3294846713542938, val acc:0.8333333333333334\n",
            "training loss:0.39321720600128174, val loss:0.3249180316925049, val acc:0.8468468468468469\n",
            "training loss:0.38764074444770813, val loss:0.3210147023200989, val acc:0.8513513513513513\n",
            "training loss:0.38229531049728394, val loss:0.31730252504348755, val acc:0.8603603603603603\n",
            "training loss:0.3773694634437561, val loss:0.31399354338645935, val acc:0.8603603603603603\n",
            "training loss:0.3726726770401001, val loss:0.3110140860080719, val acc:0.8648648648648649\n",
            "training loss:0.3683289587497711, val loss:0.30842408537864685, val acc:0.8648648648648649\n",
            "training loss:0.3640348017215729, val loss:0.30554208159446716, val acc:0.8603603603603603\n",
            "training loss:0.3598062992095947, val loss:0.3031156063079834, val acc:0.8558558558558559\n",
            "training loss:0.3556845188140869, val loss:0.30106091499328613, val acc:0.8603603603603603\n",
            "training loss:0.35187289118766785, val loss:0.2987153232097626, val acc:0.8648648648648649\n",
            "training loss:0.3479138910770416, val loss:0.29674655199050903, val acc:0.8648648648648649\n",
            "training loss:0.3442157804965973, val loss:0.29497671127319336, val acc:0.8648648648648649\n",
            "training loss:0.3404425382614136, val loss:0.29287615418434143, val acc:0.8648648648648649\n",
            "training loss:0.33672913908958435, val loss:0.29129284620285034, val acc:0.8603603603603603\n",
            "training loss:0.33305633068084717, val loss:0.2895086407661438, val acc:0.8648648648648649\n",
            "training loss:0.3294437527656555, val loss:0.28764107823371887, val acc:0.8738738738738738\n",
            "training loss:0.3255418837070465, val loss:0.28525787591934204, val acc:0.8783783783783784\n",
            "training loss:0.32180696725845337, val loss:0.28272488713264465, val acc:0.8828828828828829\n",
            "training loss:0.3179088234901428, val loss:0.2799697518348694, val acc:0.8828828828828829\n",
            "training loss:0.31410419940948486, val loss:0.2771226763725281, val acc:0.8828828828828829\n",
            "training loss:0.31035715341567993, val loss:0.274934858083725, val acc:0.8873873873873874\n",
            "training loss:0.3066760301589966, val loss:0.27182531356811523, val acc:0.8828828828828829\n",
            "training loss:0.30319643020629883, val loss:0.2688452899456024, val acc:0.8828828828828829\n",
            "training loss:0.29928016662597656, val loss:0.26626870036125183, val acc:0.8918918918918919\n",
            "training loss:0.2960139513015747, val loss:0.2634585201740265, val acc:0.8918918918918919\n",
            "training loss:0.29271504282951355, val loss:0.2607077658176422, val acc:0.8918918918918919\n",
            "training loss:0.28915682435035706, val loss:0.25854477286338806, val acc:0.9009009009009009\n",
            "training loss:0.2861194610595703, val loss:0.25585806369781494, val acc:0.9009009009009009\n",
            "training loss:0.28273430466651917, val loss:0.25424864888191223, val acc:0.9009009009009009\n",
            "training loss:0.2800815999507904, val loss:0.25221720337867737, val acc:0.9009009009009009\n",
            "training loss:0.2768724858760834, val loss:0.25065094232559204, val acc:0.9054054054054054\n",
            "training loss:0.27424997091293335, val loss:0.24930253624916077, val acc:0.9054054054054054\n",
            "training loss:0.2716134488582611, val loss:0.24809150397777557, val acc:0.9054054054054054\n",
            "training loss:0.27044209837913513, val loss:0.24804852902889252, val acc:0.9009009009009009\n",
            "training loss:0.26724565029144287, val loss:0.24599097669124603, val acc:0.9009009009009009\n",
            "training loss:0.26460790634155273, val loss:0.24433939158916473, val acc:0.9009009009009009\n",
            "training loss:0.262376993894577, val loss:0.24332290887832642, val acc:0.9009009009009009\n",
            "training loss:0.26071107387542725, val loss:0.24224884808063507, val acc:0.9009009009009009\n",
            "training loss:0.25861600041389465, val loss:0.24102313816547394, val acc:0.9009009009009009\n",
            "training loss:0.25676947832107544, val loss:0.23903797566890717, val acc:0.9054054054054054\n",
            "training loss:0.2549142837524414, val loss:0.23808901011943817, val acc:0.9054054054054054\n",
            "training loss:0.251966267824173, val loss:0.23389269411563873, val acc:0.9054054054054054\n",
            "training loss:0.24954596161842346, val loss:0.23142899572849274, val acc:0.9054054054054054\n",
            "training loss:0.24765031039714813, val loss:0.22891093790531158, val acc:0.9054054054054054\n",
            "training loss:0.24545112252235413, val loss:0.22703149914741516, val acc:0.9054054054054054\n",
            "training loss:0.24353712797164917, val loss:0.2253851741552353, val acc:0.9099099099099099\n",
            "training loss:0.2430352121591568, val loss:0.22480659186840057, val acc:0.9099099099099099\n",
            "training loss:0.24238210916519165, val loss:0.2264871746301651, val acc:0.9099099099099099\n",
            "training loss:0.23853202164173126, val loss:0.22185295820236206, val acc:0.9144144144144144\n",
            "training loss:0.2359207421541214, val loss:0.2191564440727234, val acc:0.9144144144144144\n",
            "training loss:0.23419982194900513, val loss:0.21742841601371765, val acc:0.9144144144144144\n",
            "training loss:0.2341897040605545, val loss:0.216803640127182, val acc:0.9144144144144144\n",
            "training loss:0.232094869017601, val loss:0.21795158088207245, val acc:0.9144144144144144\n",
            "training loss:0.23275476694107056, val loss:0.21720704436302185, val acc:0.9144144144144144\n",
            "training loss:0.23217926919460297, val loss:0.21634916961193085, val acc:0.9144144144144144\n",
            "training loss:0.2304820716381073, val loss:0.21401530504226685, val acc:0.9144144144144144\n",
            "training loss:0.23051202297210693, val loss:0.21673551201820374, val acc:0.9144144144144144\n",
            "training loss:0.22969458997249603, val loss:0.21318772435188293, val acc:0.918918918918919\n",
            "training loss:0.22876200079917908, val loss:0.215396448969841, val acc:0.918918918918919\n",
            "training loss:0.22620324790477753, val loss:0.21028102934360504, val acc:0.918918918918919\n",
            "training loss:0.22491629421710968, val loss:0.2069970667362213, val acc:0.918918918918919\n",
            "training loss:0.22416648268699646, val loss:0.20883218944072723, val acc:0.918918918918919\n",
            "training loss:0.219473734498024, val loss:0.20165599882602692, val acc:0.918918918918919\n",
            "training loss:0.21452240645885468, val loss:0.19713348150253296, val acc:0.9144144144144144\n",
            "training loss:0.2115226686000824, val loss:0.19376593828201294, val acc:0.9234234234234234\n",
            "training loss:0.21230068802833557, val loss:0.19724063575267792, val acc:0.9234234234234234\n",
            "training loss:0.20548242330551147, val loss:0.18738356232643127, val acc:0.9234234234234234\n",
            "training loss:0.20637013018131256, val loss:0.19158780574798584, val acc:0.9234234234234234\n",
            "training loss:0.2038375586271286, val loss:0.1857340931892395, val acc:0.9234234234234234\n",
            "training loss:0.20155100524425507, val loss:0.18542352318763733, val acc:0.9234234234234234\n",
            "training loss:0.1969495564699173, val loss:0.18110811710357666, val acc:0.9234234234234234\n",
            "training loss:0.1939341127872467, val loss:0.17845368385314941, val acc:0.9279279279279279\n",
            "training loss:0.1908881962299347, val loss:0.17385877668857574, val acc:0.9279279279279279\n",
            "training loss:0.19330309331417084, val loss:0.17908409237861633, val acc:0.9234234234234234\n",
            "training loss:0.1929638385772705, val loss:0.17779497802257538, val acc:0.9279279279279279\n",
            "training loss:0.19073642790317535, val loss:0.1774836629629135, val acc:0.9234234234234234\n",
            "training loss:0.19224786758422852, val loss:0.17874963581562042, val acc:0.9279279279279279\n",
            "training loss:0.18877124786376953, val loss:0.17675931751728058, val acc:0.9279279279279279\n",
            "training loss:0.19170765578746796, val loss:0.17815108597278595, val acc:0.9324324324324325\n",
            "training loss:0.18991804122924805, val loss:0.1772415041923523, val acc:0.9324324324324325\n",
            "training loss:0.1921602338552475, val loss:0.1792665421962738, val acc:0.9369369369369369\n",
            "training loss:0.19135770201683044, val loss:0.1795102059841156, val acc:0.9279279279279279\n",
            "training loss:0.19040866196155548, val loss:0.17886574566364288, val acc:0.9369369369369369\n",
            "training loss:0.1858338713645935, val loss:0.17369306087493896, val acc:0.9369369369369369\n",
            "training loss:0.1801624894142151, val loss:0.1683030128479004, val acc:0.9324324324324325\n",
            "training loss:0.17801231145858765, val loss:0.1672760397195816, val acc:0.9369369369369369\n",
            "training loss:0.17662197351455688, val loss:0.16403447091579437, val acc:0.9369369369369369\n",
            "training loss:0.1748019903898239, val loss:0.1653517484664917, val acc:0.9369369369369369\n",
            "training loss:0.1751997321844101, val loss:0.16256535053253174, val acc:0.9369369369369369\n",
            "training loss:0.17157098650932312, val loss:0.16019228100776672, val acc:0.9369369369369369\n",
            "training loss:0.16928419470787048, val loss:0.15948282182216644, val acc:0.9369369369369369\n",
            "training loss:0.1688796430826187, val loss:0.15600769221782684, val acc:0.9369369369369369\n",
            "training loss:0.16791531443595886, val loss:0.15672561526298523, val acc:0.9414414414414415\n",
            "training loss:0.16691391170024872, val loss:0.15844382345676422, val acc:0.9369369369369369\n",
            "training loss:0.16552142798900604, val loss:0.1563427746295929, val acc:0.9414414414414415\n",
            "training loss:0.1617257297039032, val loss:0.1505993753671646, val acc:0.9414414414414415\n",
            "training loss:0.16217488050460815, val loss:0.15370860695838928, val acc:0.9414414414414415\n",
            "training loss:0.15986569225788116, val loss:0.1487148106098175, val acc:0.9414414414414415\n",
            "training loss:0.16123637557029724, val loss:0.1487170308828354, val acc:0.9414414414414415\n",
            "training loss:0.1594093143939972, val loss:0.14760622382164001, val acc:0.9414414414414415\n",
            "training loss:0.1580411195755005, val loss:0.14807532727718353, val acc:0.9414414414414415\n",
            "training loss:0.15928806364536285, val loss:0.15059888362884521, val acc:0.9369369369369369\n",
            "training loss:0.15554779767990112, val loss:0.14240813255310059, val acc:0.9459459459459459\n",
            "training loss:0.15447412431240082, val loss:0.14767582714557648, val acc:0.9414414414414415\n",
            "training loss:0.15364527702331543, val loss:0.14502304792404175, val acc:0.9459459459459459\n",
            "training loss:0.15404804050922394, val loss:0.1436435729265213, val acc:0.9459459459459459\n",
            "training loss:0.15174473822116852, val loss:0.14261366426944733, val acc:0.9459459459459459\n",
            "training loss:0.15130068361759186, val loss:0.1391865462064743, val acc:0.9459459459459459\n",
            "training loss:0.14919747412204742, val loss:0.1415289342403412, val acc:0.9459459459459459\n",
            "training loss:0.14771555364131927, val loss:0.1400187611579895, val acc:0.9459459459459459\n",
            "training loss:0.14509698748588562, val loss:0.13272927701473236, val acc:0.9504504504504504\n",
            "training loss:0.1434447020292282, val loss:0.13620921969413757, val acc:0.9504504504504504\n",
            "training loss:0.14925424754619598, val loss:0.1497407704591751, val acc:0.9414414414414415\n",
            "training loss:0.13888195157051086, val loss:0.1305180937051773, val acc:0.9504504504504504\n",
            "training loss:0.1377692073583603, val loss:0.13469071686267853, val acc:0.9504504504504504\n",
            "training loss:0.1363903135061264, val loss:0.13101322948932648, val acc:0.9504504504504504\n",
            "training loss:0.13438613712787628, val loss:0.12989909946918488, val acc:0.954954954954955\n",
            "training loss:0.13279949128627777, val loss:0.1267171949148178, val acc:0.9594594594594594\n",
            "training loss:0.1334657222032547, val loss:0.13020654022693634, val acc:0.954954954954955\n",
            "training loss:0.13502129912376404, val loss:0.13532625138759613, val acc:0.9459459459459459\n",
            "training loss:0.13224688172340393, val loss:0.12278210371732712, val acc:0.9594594594594594\n",
            "training loss:0.12809094786643982, val loss:0.12152911722660065, val acc:0.963963963963964\n",
            "training loss:0.12858496606349945, val loss:0.13141800463199615, val acc:0.9504504504504504\n",
            "training loss:0.12408904731273651, val loss:0.11733998358249664, val acc:0.954954954954955\n",
            "training loss:0.12121908366680145, val loss:0.11900945007801056, val acc:0.9684684684684685\n",
            "training loss:0.12044704705476761, val loss:0.11755099892616272, val acc:0.9684684684684685\n",
            "training loss:0.11886924505233765, val loss:0.11613325029611588, val acc:0.9684684684684685\n",
            "training loss:0.11989446729421616, val loss:0.11379492282867432, val acc:0.9684684684684685\n",
            "training loss:0.11663194000720978, val loss:0.12094355374574661, val acc:0.9594594594594594\n",
            "training loss:0.11313105374574661, val loss:0.11569807678461075, val acc:0.9684684684684685\n",
            "training loss:0.11273401975631714, val loss:0.11327861994504929, val acc:0.963963963963964\n",
            "training loss:0.1125698909163475, val loss:0.1082124188542366, val acc:0.9684684684684685\n",
            "training loss:0.11373468488454819, val loss:0.1229930892586708, val acc:0.954954954954955\n",
            "training loss:0.1155279129743576, val loss:0.10718400776386261, val acc:0.9684684684684685\n",
            "training loss:0.10638321191072464, val loss:0.10892684757709503, val acc:0.963963963963964\n",
            "training loss:0.10742724686861038, val loss:0.1125665158033371, val acc:0.963963963963964\n",
            "training loss:0.10949311405420303, val loss:0.1045517548918724, val acc:0.9684684684684685\n",
            "training loss:0.10475858300924301, val loss:0.10425519198179245, val acc:0.9684684684684685\n",
            "training loss:0.10088588297367096, val loss:0.10463569313287735, val acc:0.9594594594594594\n",
            "training loss:0.10153505951166153, val loss:0.10240904241800308, val acc:0.963963963963964\n",
            "training loss:0.10225198417901993, val loss:0.10831819474697113, val acc:0.9594594594594594\n",
            "training loss:0.10039970278739929, val loss:0.10308925807476044, val acc:0.963963963963964\n",
            "training loss:0.12293865531682968, val loss:0.14359894394874573, val acc:0.954954954954955\n",
            "training loss:0.10032392293214798, val loss:0.11025144904851913, val acc:0.963963963963964\n",
            "training loss:0.097868911921978, val loss:0.0987662747502327, val acc:0.963963963963964\n",
            "training loss:0.09577331691980362, val loss:0.0991094633936882, val acc:0.963963963963964\n",
            "training loss:0.09394364058971405, val loss:0.09885726869106293, val acc:0.9594594594594594\n",
            "training loss:0.10364044457674026, val loss:0.09923196583986282, val acc:0.9684684684684685\n",
            "training loss:0.09178316593170166, val loss:0.09717502444982529, val acc:0.9594594594594594\n",
            "training loss:0.1031930223107338, val loss:0.10011088848114014, val acc:0.9684684684684685\n",
            "training loss:0.09677417576313019, val loss:0.0996156707406044, val acc:0.9684684684684685\n",
            "training loss:0.08790994435548782, val loss:0.09721729904413223, val acc:0.963963963963964\n",
            "training loss:0.0901419147849083, val loss:0.09821812808513641, val acc:0.9594594594594594\n",
            "training loss:0.09086392819881439, val loss:0.11037193983793259, val acc:0.9594594594594594\n",
            "training loss:0.09906727075576782, val loss:0.10164623707532883, val acc:0.9684684684684685\n",
            "training loss:0.08811455965042114, val loss:0.09700907766819, val acc:0.9684684684684685\n",
            "training loss:0.09306933730840683, val loss:0.09714721888303757, val acc:0.9684684684684685\n",
            "training loss:0.08230195194482803, val loss:0.09411559998989105, val acc:0.963963963963964\n",
            "training loss:0.09059162437915802, val loss:0.10004446655511856, val acc:0.9684684684684685\n",
            "training loss:0.08332173526287079, val loss:0.095284104347229, val acc:0.963963963963964\n",
            "training loss:0.08370262384414673, val loss:0.097164086997509, val acc:0.9684684684684685\n",
            "training loss:0.07894312590360641, val loss:0.09694812446832657, val acc:0.9684684684684685\n",
            "training loss:0.0830366387963295, val loss:0.09946868568658829, val acc:0.9684684684684685\n",
            "training loss:0.07747892290353775, val loss:0.09755761176347733, val acc:0.9684684684684685\n",
            "training loss:0.10222437232732773, val loss:0.09042533487081528, val acc:0.9684684684684685\n",
            "training loss:0.08755180239677429, val loss:0.0962705984711647, val acc:0.9594594594594594\n",
            "training loss:0.08541181683540344, val loss:0.09737405925989151, val acc:0.963963963963964\n",
            "training loss:0.08759460598230362, val loss:0.1219693273305893, val acc:0.9594594594594594\n",
            "training loss:0.08319877088069916, val loss:0.10453947633504868, val acc:0.9684684684684685\n",
            "training loss:0.07297331839799881, val loss:0.10020389407873154, val acc:0.963963963963964\n",
            "training loss:0.07584403455257416, val loss:0.09918487817049026, val acc:0.9684684684684685\n",
            "training loss:0.07140886038541794, val loss:0.0958985909819603, val acc:0.9684684684684685\n",
            "training loss:0.06923717260360718, val loss:0.09581876546144485, val acc:0.963963963963964\n",
            "training loss:0.06952691078186035, val loss:0.0917833149433136, val acc:0.963963963963964\n",
            "training loss:0.06852889806032181, val loss:0.093634232878685, val acc:0.963963963963964\n",
            "training loss:0.2766984701156616, val loss:0.3361230194568634, val acc:0.9099099099099099\n",
            "training loss:0.14947786927223206, val loss:0.22545093297958374, val acc:0.9369369369369369\n",
            "training loss:0.08223454654216766, val loss:0.1082778126001358, val acc:0.963963963963964\n",
            "training loss:0.08269499242305756, val loss:0.09736482053995132, val acc:0.963963963963964\n",
            "training loss:0.08111163228750229, val loss:0.10391616076231003, val acc:0.9684684684684685\n",
            "training loss:0.09119924902915955, val loss:0.1442558914422989, val acc:0.954954954954955\n",
            "training loss:0.5376629829406738, val loss:0.8387499451637268, val acc:0.9054054054054054\n",
            "training loss:0.09652869403362274, val loss:0.16175460815429688, val acc:0.954954954954955\n",
            "training loss:0.07349610328674316, val loss:0.09404946863651276, val acc:0.972972972972973\n",
            "training loss:0.0944226011633873, val loss:0.15399710834026337, val acc:0.954954954954955\n",
            "training loss:0.31635069847106934, val loss:0.3735448718070984, val acc:0.9099099099099099\n",
            "training loss:0.1252436339855194, val loss:0.19641858339309692, val acc:0.9504504504504504\n",
            "training loss:0.08773013949394226, val loss:0.15571847558021545, val acc:0.954954954954955\n",
            "training loss:0.07712171226739883, val loss:0.08697552233934402, val acc:0.963963963963964\n",
            "training loss:0.15691590309143066, val loss:0.23260241746902466, val acc:0.9414414414414415\n",
            "training loss:0.1579611450433731, val loss:0.23292674124240875, val acc:0.9414414414414415\n",
            "training loss:0.11098826676607132, val loss:0.1895311176776886, val acc:0.954954954954955\n"
          ]
        }
      ]
    },
    {
      "cell_type": "code",
      "source": [
        "from sklearn.metrics import classification_report, accuracy_score\n",
        "\n",
        "y_pred = model(x_test_data)\n",
        "y_pred = np.where(y_pred >= 0.5, 1, 0)\n",
        "print(classification_report(y_test, y_pred))"
      ],
      "metadata": {
        "colab": {
          "base_uri": "https://localhost:8080/"
        },
        "id": "kAfOZqmX8LSV",
        "outputId": "325a924b-d099-4619-b760-bfb21766273a"
      },
      "execution_count": null,
      "outputs": [
        {
          "output_type": "stream",
          "name": "stdout",
          "text": [
            "              precision    recall  f1-score   support\n",
            "\n",
            "           0       0.98      0.87      0.92       277\n",
            "           1       0.88      0.98      0.93       276\n",
            "\n",
            "    accuracy                           0.92       553\n",
            "   macro avg       0.93      0.92      0.92       553\n",
            "weighted avg       0.93      0.92      0.92       553\n",
            "\n"
          ]
        }
      ]
    },
    {
      "cell_type": "code",
      "source": [
        "import matplotlib.pyplot as plt\n",
        "plt.plot(training_losses)\n",
        "plt.plot(val_losses)\n",
        "plt.legend((\"Training loss\", \"val loss\"))\n",
        "plt.xlabel(\"epoch\")\n",
        "plt.ylabel(\"loss\")"
      ],
      "metadata": {
        "colab": {
          "base_uri": "https://localhost:8080/",
          "height": 467
        },
        "id": "NSa0grIT79Te",
        "outputId": "dfbee7dd-92b7-4657-bfa8-24f2252af7aa"
      },
      "execution_count": null,
      "outputs": [
        {
          "output_type": "execute_result",
          "data": {
            "text/plain": [
              "Text(0, 0.5, 'loss')"
            ]
          },
          "metadata": {},
          "execution_count": 63
        },
        {
          "output_type": "display_data",
          "data": {
            "text/plain": [
              "<Figure size 640x480 with 1 Axes>"
            ],
            "image/png": "[encoded data removed]"
          },
          "metadata": {}
        }
      ]
    },
    {
      "cell_type": "code",
      "source": [
        "from imblearn.over_sampling import RandomOverSampler, SMOTE\n",
        "\n",
        "# 創建Oversampling的實例\n",
        "# 隨機過採樣（Random Over Sampling）\n",
        "ros = RandomOverSampler(random_state=42)\n",
        "\n",
        "# SMOTE過採樣（Synthetic Minority Over-sampling Technique）\n",
        "smote = SMOTE(random_state=42)\n",
        "\n",
        "# 使用Oversampling方法處理不平衡數據集\n",
        "X_ros, y_ros = ros.fit_resample(X, y)  # 使用Random Over Sampling\n",
        "X_smote, y_smote = smote.fit_resample(X, y)  # 使用SMOTE\n",
        "\n",
        "# X_ros 和 y_ros 是經過Random Over Sampling後的新數據集\n",
        "# X_smote 和 y_smote 是經過SMOTE過採樣後的新數據集"
      ],
      "metadata": {
        "id": "ZPnWAeZ2AgHt"
      },
      "execution_count": null,
      "outputs": []
    },
    {
      "cell_type": "code",
      "source": [
        "X = X_smote\n",
        "y = y_smote\n",
        "\n",
        "\n",
        "X_train, X_test, y_train, y_test = train_test_split(X, y, test_size = 0.2, random_state = 43, stratify=y)\n",
        "X_train, X_val, y_train, y_val = train_test_split(X_train, y_train, test_size = 0.1, random_state = 43, stratify=y_train)"
      ],
      "metadata": {
        "id": "h65VhO3RAlDn"
      },
      "execution_count": null,
      "outputs": []
    },
    {
      "cell_type": "code",
      "source": [
        "# 模型、優化器初始化\n",
        "model = Model(X_test.shape[1], 1)\n",
        "optimizer = torch.optim.SGD(model.parameters(), lr=0.05, momentum=0.0) # 模型參數優化器\n",
        "loss_func = torch.nn.BCELoss()\n",
        "\n",
        "\n",
        "# 資料格式轉成torch專用格式\n",
        "x_data = torch.tensor(X_train.values, dtype=torch.float32)\n",
        "y_data = torch.tensor(np.expand_dims(y_train, axis=1), dtype=torch.float32)\n",
        "\n",
        "x_val_data = torch.tensor(X_val.values, dtype=torch.float32)\n",
        "y_val_data = torch.tensor(np.expand_dims(y_val, axis=1), dtype=torch.float32)\n",
        "\n",
        "x_test_data = torch.tensor(X_test.values, dtype=torch.float32)\n",
        "y_test_data = torch.tensor(np.expand_dims(y_test, axis=1), dtype=torch.float32)\n",
        "\n",
        "\n",
        "batch_size = 32\n",
        "num_epochs = 200\n",
        "\n",
        "training_losses = []\n",
        "val_losses = []\n",
        "\n",
        "for epoch in range(num_epochs):\n",
        "    for i in range(0, len(x_data), batch_size):\n",
        "        prediction = model(x_data[i:i+batch_size])\n",
        "        loss = loss_func(prediction, y_data[i:i+batch_size])\n",
        "\n",
        "        optimizer.zero_grad()\n",
        "        loss.backward()\n",
        "        optimizer.step()\n",
        "\n",
        "    loss = loss_func(model(x_data), y_data)\n",
        "    training_losses.append(float(loss))\n",
        "\n",
        "    y_pred = model(x_val_data)\n",
        "    val_loss = loss_func(y_pred, y_val_data)\n",
        "    print(\"training loss:{}, val loss:{}, val acc:{}\".format(float(loss), val_loss, accuracy_score(y_val_data, np.where(y_pred >= 0.5, 1, 0))))\n",
        "\n",
        "    val_losses.append(float(val_loss))"
      ],
      "metadata": {
        "colab": {
          "base_uri": "https://localhost:8080/"
        },
        "id": "X2GR6INpAtmT",
        "outputId": "c84703ae-2c31-4297-fb9a-7700cde9089c"
      },
      "execution_count": null,
      "outputs": [
        {
          "output_type": "stream",
          "name": "stdout",
          "text": [
            "training loss:0.636477530002594, val loss:0.6299139261245728, val acc:0.6846846846846847\n",
            "training loss:0.5452790260314941, val loss:0.523941159248352, val acc:0.7927927927927928\n",
            "training loss:0.4777064323425293, val loss:0.43893200159072876, val acc:0.8153153153153153\n",
            "training loss:0.44638535380363464, val loss:0.39276647567749023, val acc:0.8333333333333334\n",
            "training loss:0.4308765232563019, val loss:0.3697564899921417, val acc:0.8243243243243243\n",
            "training loss:0.4201442301273346, val loss:0.3561188280582428, val acc:0.8243243243243243\n",
            "training loss:0.41116854548454285, val loss:0.34689778089523315, val acc:0.8333333333333334\n",
            "training loss:0.4026791751384735, val loss:0.34000980854034424, val acc:0.8378378378378378\n",
            "training loss:0.3947279155254364, val loss:0.33480656147003174, val acc:0.8378378378378378\n",
            "training loss:0.3873613178730011, val loss:0.33051374554634094, val acc:0.8558558558558559\n",
            "training loss:0.3804435729980469, val loss:0.3263680636882782, val acc:0.8558558558558559\n",
            "training loss:0.37387922406196594, val loss:0.3223079442977905, val acc:0.8648648648648649\n",
            "training loss:0.36767303943634033, val loss:0.31888341903686523, val acc:0.8648648648648649\n",
            "training loss:0.3621416389942169, val loss:0.315752238035202, val acc:0.8693693693693694\n",
            "training loss:0.35717543959617615, val loss:0.3139891028404236, val acc:0.8648648648648649\n",
            "training loss:0.35230714082717896, val loss:0.3119412958621979, val acc:0.8693693693693694\n",
            "training loss:0.3479387164115906, val loss:0.31084978580474854, val acc:0.8738738738738738\n",
            "training loss:0.3434826731681824, val loss:0.3089125454425812, val acc:0.8783783783783784\n",
            "training loss:0.33934924006462097, val loss:0.30684152245521545, val acc:0.8783783783783784\n",
            "training loss:0.33559420704841614, val loss:0.3057442605495453, val acc:0.8783783783783784\n",
            "training loss:0.33273983001708984, val loss:0.3059874176979065, val acc:0.8828828828828829\n",
            "training loss:0.3290233910083771, val loss:0.3044341504573822, val acc:0.8828828828828829\n",
            "training loss:0.3261597156524658, val loss:0.30389320850372314, val acc:0.8873873873873874\n",
            "training loss:0.3226701021194458, val loss:0.3022981286048889, val acc:0.8873873873873874\n",
            "training loss:0.3201218843460083, val loss:0.3020473122596741, val acc:0.8828828828828829\n",
            "training loss:0.31735163927078247, val loss:0.30051788687705994, val acc:0.8828828828828829\n",
            "training loss:0.3151797652244568, val loss:0.3003169000148773, val acc:0.8828828828828829\n",
            "training loss:0.3122842609882355, val loss:0.29853132367134094, val acc:0.8828828828828829\n",
            "training loss:0.3116130530834198, val loss:0.3003491163253784, val acc:0.8828828828828829\n",
            "training loss:0.30848562717437744, val loss:0.29849934577941895, val acc:0.8783783783783784\n",
            "training loss:0.3062300384044647, val loss:0.2980876564979553, val acc:0.8828828828828829\n",
            "training loss:0.30467885732650757, val loss:0.29825082421302795, val acc:0.8783783783783784\n",
            "training loss:0.30215179920196533, val loss:0.2968904376029968, val acc:0.8783783783783784\n",
            "training loss:0.30162277817726135, val loss:0.29791060090065, val acc:0.8783783783783784\n",
            "training loss:0.2982797622680664, val loss:0.29558265209198, val acc:0.8783783783783784\n",
            "training loss:0.2979668080806732, val loss:0.29597553610801697, val acc:0.8783783783783784\n",
            "training loss:0.2963125705718994, val loss:0.2951684296131134, val acc:0.8783783783783784\n",
            "training loss:0.2952212989330292, val loss:0.2949627935886383, val acc:0.8783783783783784\n",
            "training loss:0.2930280864238739, val loss:0.2936006784439087, val acc:0.8783783783783784\n",
            "training loss:0.2920059859752655, val loss:0.2930090129375458, val acc:0.8783783783783784\n",
            "training loss:0.29294610023498535, val loss:0.29657456278800964, val acc:0.8783783783783784\n",
            "training loss:0.287056028842926, val loss:0.2910135090351105, val acc:0.8873873873873874\n",
            "training loss:0.29029595851898193, val loss:0.2954525649547577, val acc:0.8783783783783784\n",
            "training loss:0.28834980726242065, val loss:0.29373252391815186, val acc:0.8828828828828829\n",
            "training loss:0.2899886965751648, val loss:0.29688212275505066, val acc:0.8783783783783784\n",
            "training loss:0.2800414264202118, val loss:0.2858700156211853, val acc:0.8918918918918919\n",
            "training loss:0.28681525588035583, val loss:0.2941460609436035, val acc:0.8783783783783784\n",
            "training loss:0.27957990765571594, val loss:0.28612539172172546, val acc:0.8918918918918919\n",
            "training loss:0.2875271141529083, val loss:0.2958795726299286, val acc:0.8783783783783784\n",
            "training loss:0.2780607342720032, val loss:0.2851577699184418, val acc:0.8918918918918919\n",
            "training loss:0.2856657803058624, val loss:0.29444071650505066, val acc:0.8783783783783784\n",
            "training loss:0.27902209758758545, val loss:0.28645455837249756, val acc:0.8828828828828829\n",
            "training loss:0.28840017318725586, val loss:0.29862332344055176, val acc:0.8828828828828829\n",
            "training loss:0.2821396589279175, val loss:0.2914108335971832, val acc:0.8828828828828829\n",
            "training loss:0.28943729400634766, val loss:0.3005070686340332, val acc:0.8873873873873874\n",
            "training loss:0.28231456875801086, val loss:0.29270806908607483, val acc:0.8918918918918919\n",
            "training loss:0.28019893169403076, val loss:0.29056644439697266, val acc:0.8918918918918919\n",
            "training loss:0.2861379086971283, val loss:0.2989184260368347, val acc:0.8873873873873874\n",
            "training loss:0.28749606013298035, val loss:0.30032873153686523, val acc:0.8873873873873874\n",
            "training loss:0.2829817533493042, val loss:0.2958822250366211, val acc:0.8873873873873874\n",
            "training loss:0.2833159267902374, val loss:0.2947791814804077, val acc:0.8873873873873874\n",
            "training loss:0.28858959674835205, val loss:0.30138757824897766, val acc:0.8873873873873874\n",
            "training loss:0.2874058783054352, val loss:0.30104243755340576, val acc:0.8873873873873874\n",
            "training loss:0.27955782413482666, val loss:0.29211097955703735, val acc:0.8873873873873874\n",
            "training loss:0.2766598165035248, val loss:0.28853052854537964, val acc:0.8918918918918919\n",
            "training loss:0.2789663076400757, val loss:0.29367175698280334, val acc:0.8828828828828829\n",
            "training loss:0.2780519425868988, val loss:0.2913416624069214, val acc:0.8828828828828829\n",
            "training loss:0.27727368474006653, val loss:0.2922339141368866, val acc:0.8828828828828829\n",
            "training loss:0.2802070677280426, val loss:0.29708823561668396, val acc:0.8828828828828829\n",
            "training loss:0.2940327823162079, val loss:0.3152351975440979, val acc:0.8738738738738738\n",
            "training loss:0.27109989523887634, val loss:0.28621846437454224, val acc:0.8783783783783784\n",
            "training loss:0.27152979373931885, val loss:0.28727972507476807, val acc:0.8873873873873874\n",
            "training loss:0.28700998425483704, val loss:0.30769631266593933, val acc:0.8783783783783784\n",
            "training loss:0.2663305699825287, val loss:0.2824932932853699, val acc:0.8828828828828829\n",
            "training loss:0.27584362030029297, val loss:0.2947068512439728, val acc:0.8828828828828829\n",
            "training loss:0.2801114320755005, val loss:0.29819950461387634, val acc:0.8828828828828829\n",
            "training loss:0.28537943959236145, val loss:0.3056723177433014, val acc:0.8783783783783784\n",
            "training loss:0.2634279429912567, val loss:0.28009480237960815, val acc:0.8873873873873874\n",
            "training loss:0.2754461467266083, val loss:0.2956799566745758, val acc:0.8783783783783784\n",
            "training loss:0.27399930357933044, val loss:0.2928377091884613, val acc:0.8828828828828829\n",
            "training loss:0.2624969184398651, val loss:0.2793370187282562, val acc:0.8873873873873874\n",
            "training loss:0.26510801911354065, val loss:0.2821042835712433, val acc:0.8873873873873874\n",
            "training loss:0.2612103521823883, val loss:0.278738796710968, val acc:0.8873873873873874\n",
            "training loss:0.25677362084388733, val loss:0.27435916662216187, val acc:0.8873873873873874\n",
            "training loss:0.24851414561271667, val loss:0.2645670175552368, val acc:0.8918918918918919\n",
            "training loss:0.24157938361167908, val loss:0.25632113218307495, val acc:0.8963963963963963\n",
            "training loss:0.24620631337165833, val loss:0.26307591795921326, val acc:0.8918918918918919\n",
            "training loss:0.23168736696243286, val loss:0.24563488364219666, val acc:0.8963963963963963\n",
            "training loss:0.24244636297225952, val loss:0.258826345205307, val acc:0.8918918918918919\n",
            "training loss:0.2256605625152588, val loss:0.24010199308395386, val acc:0.8963963963963963\n",
            "training loss:0.24000418186187744, val loss:0.2547687590122223, val acc:0.8918918918918919\n",
            "training loss:0.2392084002494812, val loss:0.2554123103618622, val acc:0.8963963963963963\n",
            "training loss:0.22340990602970123, val loss:0.23678573966026306, val acc:0.9009009009009009\n",
            "training loss:0.24371562898159027, val loss:0.2598946988582611, val acc:0.8918918918918919\n",
            "training loss:0.21984748542308807, val loss:0.2347826510667801, val acc:0.9009009009009009\n",
            "training loss:0.2183198481798172, val loss:0.23326584696769714, val acc:0.9009009009009009\n",
            "training loss:0.2203259915113449, val loss:0.23755905032157898, val acc:0.9009009009009009\n",
            "training loss:0.22608821094036102, val loss:0.2440289855003357, val acc:0.9009009009009009\n",
            "training loss:0.2133389413356781, val loss:0.2286800742149353, val acc:0.9009009009009009\n",
            "training loss:0.218351349234581, val loss:0.2356385588645935, val acc:0.9009009009009009\n",
            "training loss:0.21719582378864288, val loss:0.23393453657627106, val acc:0.9009009009009009\n",
            "training loss:0.20152710378170013, val loss:0.2161749005317688, val acc:0.9099099099099099\n",
            "training loss:0.21433581411838531, val loss:0.2308809459209442, val acc:0.9054054054054054\n",
            "training loss:0.2167752981185913, val loss:0.2340463399887085, val acc:0.9054054054054054\n",
            "training loss:0.22559940814971924, val loss:0.2478581666946411, val acc:0.9009009009009009\n",
            "training loss:0.21764084696769714, val loss:0.23784476518630981, val acc:0.9054054054054054\n",
            "training loss:0.20938462018966675, val loss:0.23031474649906158, val acc:0.9054054054054054\n",
            "training loss:0.21317048370838165, val loss:0.23546694219112396, val acc:0.9054054054054054\n",
            "training loss:0.22792698442935944, val loss:0.251343309879303, val acc:0.9054054054054054\n",
            "training loss:0.20662112534046173, val loss:0.22805586457252502, val acc:0.9099099099099099\n",
            "training loss:0.22083719074726105, val loss:0.243996724486351, val acc:0.9054054054054054\n",
            "training loss:0.2073403298854828, val loss:0.22991487383842468, val acc:0.9054054054054054\n",
            "training loss:0.21559032797813416, val loss:0.23971624672412872, val acc:0.9054054054054054\n",
            "training loss:0.18988896906375885, val loss:0.21146254241466522, val acc:0.918918918918919\n",
            "training loss:0.21392841637134552, val loss:0.24135607481002808, val acc:0.9054054054054054\n",
            "training loss:0.1902039349079132, val loss:0.21408115327358246, val acc:0.9144144144144144\n",
            "training loss:0.18545593321323395, val loss:0.21171802282333374, val acc:0.9144144144144144\n",
            "training loss:0.1772608906030655, val loss:0.20247231423854828, val acc:0.9144144144144144\n",
            "training loss:0.1920395791530609, val loss:0.2209668606519699, val acc:0.9054054054054054\n",
            "training loss:0.17952407896518707, val loss:0.20587292313575745, val acc:0.9144144144144144\n",
            "training loss:0.17839424312114716, val loss:0.20749683678150177, val acc:0.9144144144144144\n",
            "training loss:0.2056112140417099, val loss:0.2385537475347519, val acc:0.9054054054054054\n",
            "training loss:0.18034031987190247, val loss:0.2110632359981537, val acc:0.9144144144144144\n",
            "training loss:0.16357427835464478, val loss:0.19066087901592255, val acc:0.9234234234234234\n",
            "training loss:0.1705634891986847, val loss:0.20337477326393127, val acc:0.9144144144144144\n",
            "training loss:0.177743598818779, val loss:0.21115870773792267, val acc:0.9144144144144144\n",
            "training loss:0.16775719821453094, val loss:0.20133692026138306, val acc:0.918918918918919\n",
            "training loss:0.17678247392177582, val loss:0.21128877997398376, val acc:0.918918918918919\n",
            "training loss:0.16329316794872284, val loss:0.19752644002437592, val acc:0.9234234234234234\n",
            "training loss:0.15679731965065002, val loss:0.18937289714813232, val acc:0.9234234234234234\n",
            "training loss:0.1629154235124588, val loss:0.20055565237998962, val acc:0.9234234234234234\n",
            "training loss:0.15941134095191956, val loss:0.19587263464927673, val acc:0.9234234234234234\n",
            "training loss:0.16466474533081055, val loss:0.20219473540782928, val acc:0.9234234234234234\n",
            "training loss:0.1853485256433487, val loss:0.2274433821439743, val acc:0.9099099099099099\n",
            "training loss:0.1582796275615692, val loss:0.19999103248119354, val acc:0.9234234234234234\n",
            "training loss:0.15351778268814087, val loss:0.1924009472131729, val acc:0.9234234234234234\n",
            "training loss:0.1649431586265564, val loss:0.20802859961986542, val acc:0.9234234234234234\n",
            "training loss:0.14965961873531342, val loss:0.19157233834266663, val acc:0.9234234234234234\n",
            "training loss:0.14805391430854797, val loss:0.19267530739307404, val acc:0.9234234234234234\n",
            "training loss:0.15151211619377136, val loss:0.19789856672286987, val acc:0.9234234234234234\n",
            "training loss:0.14395944774150848, val loss:0.19017241895198822, val acc:0.918918918918919\n",
            "training loss:0.16068214178085327, val loss:0.2121218889951706, val acc:0.918918918918919\n",
            "training loss:0.14276598393917084, val loss:0.19114643335342407, val acc:0.918918918918919\n",
            "training loss:0.1387409120798111, val loss:0.1893530637025833, val acc:0.918918918918919\n",
            "training loss:0.14951123297214508, val loss:0.20475605130195618, val acc:0.9234234234234234\n",
            "training loss:0.13631656765937805, val loss:0.1876898854970932, val acc:0.918918918918919\n",
            "training loss:0.15898045897483826, val loss:0.21537363529205322, val acc:0.9144144144144144\n",
            "training loss:0.1455516517162323, val loss:0.20213578641414642, val acc:0.918918918918919\n",
            "training loss:0.1527610570192337, val loss:0.21227005124092102, val acc:0.9144144144144144\n",
            "training loss:0.14605668187141418, val loss:0.20582880079746246, val acc:0.918918918918919\n",
            "training loss:0.1711588203907013, val loss:0.23763608932495117, val acc:0.9054054054054054\n",
            "training loss:0.12892450392246246, val loss:0.18800310790538788, val acc:0.918918918918919\n",
            "training loss:0.13864552974700928, val loss:0.20161287486553192, val acc:0.9144144144144144\n",
            "training loss:0.13670960068702698, val loss:0.19797898828983307, val acc:0.918918918918919\n",
            "training loss:0.13161659240722656, val loss:0.19440792500972748, val acc:0.918918918918919\n",
            "training loss:0.12984688580036163, val loss:0.1913900077342987, val acc:0.918918918918919\n",
            "training loss:0.13340513408184052, val loss:0.1980731338262558, val acc:0.9144144144144144\n",
            "training loss:0.12438122183084488, val loss:0.18897970020771027, val acc:0.918918918918919\n",
            "training loss:0.12523655593395233, val loss:0.1906384378671646, val acc:0.918918918918919\n",
            "training loss:0.12394017726182938, val loss:0.19030793011188507, val acc:0.918918918918919\n",
            "training loss:0.11982054263353348, val loss:0.18475575745105743, val acc:0.918918918918919\n",
            "training loss:0.1315220445394516, val loss:0.20235106348991394, val acc:0.9144144144144144\n",
            "training loss:0.13911351561546326, val loss:0.21617652475833893, val acc:0.918918918918919\n",
            "training loss:0.1293405145406723, val loss:0.20240604877471924, val acc:0.9144144144144144\n",
            "training loss:0.15890595316886902, val loss:0.2421112060546875, val acc:0.9099099099099099\n",
            "training loss:0.14208093285560608, val loss:0.22354252636432648, val acc:0.918918918918919\n",
            "training loss:0.1394621878862381, val loss:0.22151124477386475, val acc:0.918918918918919\n",
            "training loss:0.22806529700756073, val loss:0.3307221531867981, val acc:0.8963963963963963\n",
            "training loss:0.18343812227249146, val loss:0.27499598264694214, val acc:0.9054054054054054\n",
            "training loss:0.10133247822523117, val loss:0.16891850531101227, val acc:0.9234234234234234\n",
            "training loss:0.15157450735569, val loss:0.24198289215564728, val acc:0.9099099099099099\n",
            "training loss:0.10564392060041428, val loss:0.17953374981880188, val acc:0.9234234234234234\n",
            "training loss:0.16189192235469818, val loss:0.25707879662513733, val acc:0.9054054054054054\n",
            "training loss:0.12505288422107697, val loss:0.21037210524082184, val acc:0.918918918918919\n",
            "training loss:0.24199846386909485, val loss:0.3573014438152313, val acc:0.9009009009009009\n",
            "training loss:0.11578933894634247, val loss:0.19633306562900543, val acc:0.918918918918919\n",
            "training loss:0.20947277545928955, val loss:0.32285255193710327, val acc:0.8963963963963963\n",
            "training loss:0.16544806957244873, val loss:0.26480960845947266, val acc:0.9054054054054054\n",
            "training loss:0.15166336297988892, val loss:0.2483244240283966, val acc:0.9099099099099099\n",
            "training loss:0.09674697369337082, val loss:0.1738000363111496, val acc:0.9279279279279279\n",
            "training loss:0.3207802176475525, val loss:0.4607618451118469, val acc:0.8828828828828829\n",
            "training loss:0.12311282753944397, val loss:0.21526500582695007, val acc:0.9144144144144144\n",
            "training loss:0.2215229868888855, val loss:0.34991946816444397, val acc:0.9009009009009009\n",
            "training loss:0.10517991334199905, val loss:0.19329802691936493, val acc:0.918918918918919\n",
            "training loss:0.19822682440280914, val loss:0.32352215051651, val acc:0.9009009009009009\n",
            "training loss:0.24157924950122833, val loss:0.3704100251197815, val acc:0.8963963963963963\n",
            "training loss:0.26364922523498535, val loss:0.39598938822746277, val acc:0.8918918918918919\n",
            "training loss:0.24107076227664948, val loss:0.3752421438694, val acc:0.8963963963963963\n",
            "training loss:0.12005074322223663, val loss:0.22456906735897064, val acc:0.9144144144144144\n",
            "training loss:0.14741645753383636, val loss:0.2592262327671051, val acc:0.9144144144144144\n",
            "training loss:0.15463019907474518, val loss:0.26911109685897827, val acc:0.9144144144144144\n",
            "training loss:0.1413092315196991, val loss:0.25207874178886414, val acc:0.9144144144144144\n",
            "training loss:0.2511901259422302, val loss:0.391512393951416, val acc:0.8963963963963963\n",
            "training loss:0.11196073144674301, val loss:0.21743223071098328, val acc:0.918918918918919\n",
            "training loss:0.10938695818185806, val loss:0.21983367204666138, val acc:0.9234234234234234\n",
            "training loss:0.2095467746257782, val loss:0.3515230119228363, val acc:0.9009009009009009\n",
            "training loss:0.10633355379104614, val loss:0.2174416482448578, val acc:0.9234234234234234\n",
            "training loss:0.09695818275213242, val loss:0.20065779983997345, val acc:0.9234234234234234\n",
            "training loss:0.199739471077919, val loss:0.34571942687034607, val acc:0.8963963963963963\n",
            "training loss:0.09916817396879196, val loss:0.20925962924957275, val acc:0.9234234234234234\n"
          ]
        }
      ]
    },
    {
      "cell_type": "code",
      "source": [
        "from sklearn.metrics import classification_report, accuracy_score\n",
        "\n",
        "y_pred = model(x_test_data)\n",
        "y_pred = np.where(y_pred >= 0.5, 1, 0)\n",
        "print(classification_report(y_test, y_pred))"
      ],
      "metadata": {
        "colab": {
          "base_uri": "https://localhost:8080/"
        },
        "id": "jTnOP-FAA6ua",
        "outputId": "38618a4b-8a13-43a0-b3c3-6e3bb9c568d6"
      },
      "execution_count": null,
      "outputs": [
        {
          "output_type": "stream",
          "name": "stdout",
          "text": [
            "              precision    recall  f1-score   support\n",
            "\n",
            "           0       0.98      0.86      0.92       277\n",
            "           1       0.88      0.98      0.93       276\n",
            "\n",
            "    accuracy                           0.92       553\n",
            "   macro avg       0.93      0.92      0.92       553\n",
            "weighted avg       0.93      0.92      0.92       553\n",
            "\n"
          ]
        }
      ]
    },
    {
      "cell_type": "code",
      "source": [
        "import matplotlib.pyplot as plt\n",
        "plt.plot(training_losses)\n",
        "plt.plot(val_losses)\n",
        "plt.legend((\"Training loss\", \"val loss\"))\n",
        "plt.xlabel(\"epoch\")\n",
        "plt.ylabel(\"loss\")"
      ],
      "metadata": {
        "colab": {
          "base_uri": "https://localhost:8080/",
          "height": 467
        },
        "id": "-HJ_ppY5A0S9",
        "outputId": "bf845fe3-3013-43aa-a244-bdba1900b068"
      },
      "execution_count": null,
      "outputs": [
        {
          "output_type": "execute_result",
          "data": {
            "text/plain": [
              "Text(0, 0.5, 'loss')"
            ]
          },
          "metadata": {},
          "execution_count": 68
        },
        {
          "output_type": "display_data",
          "data": {
            "text/plain": [
              "<Figure size 640x480 with 1 Axes>"
            ],
            "image/png": "[encoded data removed]"
          },
          "metadata": {}
        }
      ]
    }
  ]
}